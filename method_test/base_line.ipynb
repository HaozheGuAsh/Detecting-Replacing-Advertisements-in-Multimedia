{
 "cells": [
  {
   "cell_type": "markdown",
   "metadata": {},
   "source": [
    "search in one frame(.jpg) of video, expolre how to locate the brand image"
   ]
  },
  {
   "cell_type": "code",
   "execution_count": null,
   "metadata": {},
   "outputs": [],
   "source": [
    "import numpy as np\n",
    "import cv2\n",
    "from matplotlib import pyplot as plt\n",
    "\n",
    "imgname1 = r'.\\data\\starbucks_logo.jpg'\n",
    "imgname2 = r'.\\data\\starbucks_snapshoot_scaled.jpg'\n",
    "\n",
    "sift = cv2.xfeatures2d.SIFT_create()\n",
    "\n",
    "img1 = cv2.imread(imgname1)\n",
    "gray1 = cv2.cvtColor(img1, cv2.COLOR_BGR2GRAY) #灰度处理图像\n",
    "kp1, des1 = sift.detectAndCompute(img1,None)   #des是描述子\n",
    "\n",
    "img2 = cv2.imread(imgname2)\n",
    "gray2 = cv2.cvtColor(img2, cv2.COLOR_BGR2GRAY)#灰度处理图像\n",
    "kp2, des2 = sift.detectAndCompute(img2,None)  #des是描述子\n",
    "\n",
    "hmerge = np.hstack((gray1, gray2)) #水平拼接\n",
    "cv2.imshow(\"gray\", hmerge) #拼接显示为gray\n",
    "## cv2.waitKey(0)\n",
    "\n",
    "img3 = cv2.drawKeypoints(img1,kp1,img1,color=(255,0,255)) #画出特征点，并显示为红色圆圈\n",
    "img4 = cv2.drawKeypoints(img2,kp2,img2,color=(255,0,255)) #画出特征点，并显示为红色圆圈\n",
    "hmerge = np.hstack((img3, img4)) #水平拼接\n",
    "cv2.imshow(\"point\", hmerge) #拼接显示为gray\n",
    "## cv2.waitKey(0)\n",
    "# BFMatcher解决匹配\n",
    "bf = cv2.BFMatcher()\n",
    "matches = bf.knnMatch(des1,des2, k=2)\n",
    "# 调整ratio\n",
    "good = []\n",
    "for m,n in matches:\n",
    "    if m.distance < 0.75*n.distance:\n",
    "        good.append([m])\n",
    "print(\"Good-Matches number = \", len(good))\n",
    "\n",
    "## img5 = cv2.drawMatchesKnn(img1,kp1,img2,kp2,matches,None,flags=2)\n",
    "img5 = cv2.drawMatchesKnn(img1,kp1,img2,kp2,good,None,flags=2)\n",
    "cv2.imshow(\"BFmatch\", img5)\n",
    "cv2.waitKey(0)\n",
    "cv2.destroyAllWindows()\n"
   ]
  }
 ],
 "metadata": {
  "kernelspec": {
   "display_name": "Python 3",
   "language": "python",
   "name": "python3"
  },
  "language_info": {
   "codemirror_mode": {
    "name": "ipython",
    "version": 3
   },
   "file_extension": ".py",
   "mimetype": "text/x-python",
   "name": "python",
   "nbconvert_exporter": "python",
   "pygments_lexer": "ipython3",
   "version": "3.6.5"
  }
 },
 "nbformat": 4,
 "nbformat_minor": 2
}
